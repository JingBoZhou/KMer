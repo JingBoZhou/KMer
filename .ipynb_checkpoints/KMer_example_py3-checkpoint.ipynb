{
 "cells": [
  {
   "cell_type": "code",
   "execution_count": 1,
   "metadata": {},
   "outputs": [],
   "source": [
    "import os #In order to save data\n",
    "from itertools import product # For produce k-mer's keys,like 'AAA', 'AAT'\n",
    "\n",
    "# Where to save the data\n",
    "PROJECT_ROOT_DIR = \".\"  "
   ]
  },
  {
   "cell_type": "code",
   "execution_count": 2,
   "metadata": {},
   "outputs": [
    {
     "name": "stdout",
     "output_type": "stream",
     "text": [
      "['AAA', 'AAT', 'AAC', 'AAG', 'ATA', 'ATT', 'ATC', 'ATG', 'ACA', 'ACT', 'ACC', 'ACG', 'AGA', 'AGT', 'AGC', 'AGG', 'TAA', 'TAT', 'TAC', 'TAG', 'TTA', 'TTT', 'TTC', 'TTG', 'TCA', 'TCT', 'TCC', 'TCG', 'TGA', 'TGT', 'TGC', 'TGG', 'CAA', 'CAT', 'CAC', 'CAG', 'CTA', 'CTT', 'CTC', 'CTG', 'CCA', 'CCT', 'CCC', 'CCG', 'CGA', 'CGT', 'CGC', 'CGG', 'GAA', 'GAT', 'GAC', 'GAG', 'GTA', 'GTT', 'GTC', 'GTG', 'GCA', 'GCT', 'GCC', 'GCG', 'GGA', 'GGT', 'GGC', 'GGG']\n",
      "64\n"
     ]
    }
   ],
   "source": [
    "a = 'ATCG' #Nucleotide, you can load amino acid\n",
    "b = 3 #k-mer's k\n",
    "print([''.join(x) for x in product(a, repeat=b)])\n",
    "print(len([''.join(x) for x in product(a, repeat=b)]))"
   ]
  },
  {
   "cell_type": "code",
   "execution_count": 3,
   "metadata": {},
   "outputs": [
    {
     "name": "stdout",
     "output_type": "stream",
     "text": [
      "{'AAA': 0, 'AAC': 0, 'AAT': 0, 'AAG': 0, 'ACA': 0, 'ACC': 0, 'ACT': 0, 'ACG': 0, 'ATA': 0, 'ATC': 0, 'ATT': 0, 'ATG': 0, 'AGA': 0, 'AGC': 0, 'AGT': 0, 'AGG': 0, 'CAA': 0, 'CAC': 0, 'CAT': 0, 'CAG': 0, 'CCA': 0, 'CCC': 0, 'CCT': 0, 'CCG': 0, 'CTA': 0, 'CTC': 0, 'CTT': 0, 'CTG': 0, 'CGA': 0, 'CGC': 0, 'CGT': 0, 'CGG': 0, 'TAA': 0, 'TAC': 0, 'TAT': 0, 'TAG': 0, 'TCA': 0, 'TCC': 0, 'TCT': 0, 'TCG': 0, 'TTA': 0, 'TTC': 0, 'TTT': 0, 'TTG': 0, 'TGA': 0, 'TGC': 0, 'TGT': 0, 'TGG': 0, 'GAA': 0, 'GAC': 0, 'GAT': 0, 'GAG': 0, 'GCA': 0, 'GCC': 0, 'GCT': 0, 'GCG': 0, 'GTA': 0, 'GTC': 0, 'GTT': 0, 'GTG': 0, 'GGA': 0, 'GGC': 0, 'GGT': 0, 'GGG': 0}\n"
     ]
    }
   ],
   "source": [
    "a = 'ACTG'\n",
    "b = 3\n",
    "print({''.join(x):0 for x in product(a, repeat=b)}) #Become a dict"
   ]
  },
  {
   "cell_type": "code",
   "execution_count": 4,
   "metadata": {},
   "outputs": [
    {
     "name": "stdout",
     "output_type": "stream",
     "text": [
      "ACT\n",
      "CTG\n",
      "TGA\n",
      "GAC\n",
      "ACT\n",
      "CTG\n",
      "TGA\n",
      "GAC\n",
      "ACT\n",
      "CTG\n"
     ]
    }
   ],
   "source": [
    "seq = \"ACTGACTGACTG\"\n",
    "for i in range(len(seq) - 2):\n",
    "    print(seq[i:i+3])"
   ]
  },
  {
   "cell_type": "code",
   "execution_count": 5,
   "metadata": {},
   "outputs": [
    {
     "name": "stdout",
     "output_type": "stream",
     "text": [
      "{'AAA': 0, 'AAC': 0, 'AAT': 0, 'AAG': 0, 'ACA': 0, 'ACC': 0, 'ACT': 3, 'ACG': 0, 'ATA': 0, 'ATC': 0, 'ATT': 0, 'ATG': 0, 'AGA': 0, 'AGC': 0, 'AGT': 0, 'AGG': 0, 'CAA': 0, 'CAC': 0, 'CAT': 0, 'CAG': 0, 'CCA': 0, 'CCC': 0, 'CCT': 0, 'CCG': 0, 'CTA': 0, 'CTC': 0, 'CTT': 0, 'CTG': 3, 'CGA': 0, 'CGC': 0, 'CGT': 0, 'CGG': 0, 'TAA': 0, 'TAC': 0, 'TAT': 0, 'TAG': 0, 'TCA': 0, 'TCC': 0, 'TCT': 0, 'TCG': 0, 'TTA': 0, 'TTC': 0, 'TTT': 0, 'TTG': 0, 'TGA': 2, 'TGC': 0, 'TGT': 0, 'TGG': 0, 'GAA': 0, 'GAC': 2, 'GAT': 0, 'GAG': 0, 'GCA': 0, 'GCC': 0, 'GCT': 0, 'GCG': 0, 'GTA': 0, 'GTC': 0, 'GTT': 0, 'GTG': 0, 'GGA': 0, 'GGC': 0, 'GGT': 0, 'GGG': 0}\n"
     ]
    }
   ],
   "source": [
    "def k_mer_dna(number):\n",
    "    \n",
    "    return {''.join(x):0 for x in product('ACTG', repeat=number)}\n",
    "\n",
    "def count_k_mer(seq,n):\n",
    "    k_mer_dna_dict = k_mer_dna(n)\n",
    "    for i in range(len(seq) - n + 1):\n",
    "        count = seq[i:i+n]\n",
    "        if count in k_mer_dna_dict:\n",
    "            k_mer_dna_dict[count] += 1\n",
    "    \n",
    "    return k_mer_dna_dict\n",
    "\n",
    "seq = \"ACTGACTGACTG\"\n",
    "print(count_k_mer(seq,3)) "
   ]
  },
  {
   "cell_type": "code",
   "execution_count": 6,
   "metadata": {},
   "outputs": [
    {
     "name": "stdout",
     "output_type": "stream",
     "text": [
      "AAA\tAAC\tAAT\tAAG\tACA\tACC\tACT\tACG\tATA\tATC\tATT\tATG\tAGA\tAGC\tAGT\tAGG\tCAA\tCAC\tCAT\tCAG\tCCA\tCCC\tCCT\tCCG\tCTA\tCTC\tCTT\tCTG\tCGA\tCGC\tCGT\tCGG\tTAA\tTAC\tTAT\tTAG\tTCA\tTCC\tTCT\tTCG\tTTA\tTTC\tTTT\tTTG\tTGA\tTGC\tTGT\tTGG\tGAA\tGAC\tGAT\tGAG\tGCA\tGCC\tGCT\tGCG\tGTA\tGTC\tGTT\tGTG\tGGA\tGGC\tGGT\tGGG\n",
      "158\t152\t73\t105\t125\t120\t128\t90\t102\t31\t79\t100\t85\t95\t99\t18\t102\t89\t78\t66\t63\t31\t120\t43\t119\t96\t147\t92\t76\t30\t93\t37\t127\t170\t87\t74\t80\t78\t113\t64\t127\t135\t197\t122\t109\t70\t137\t62\t101\t52\t74\t53\t67\t28\t93\t39\t109\t73\t158\t64\t10\t32\t75\t38\n",
      "20\t21\t18\t9\t21\t5\t18\t10\t22\t6\t29\t23\t10\t6\t7\t13\t13\t11\t16\t10\t1\t3\t10\t6\t10\t10\t22\t13\t4\t5\t4\t7\t24\t13\t26\t10\t14\t7\t11\t2\t27\t10\t22\t21\t18\t10\t18\t29\t12\t9\t19\t7\t14\t5\t16\t2\t14\t8\t7\t18\t15\t16\t18\t10\n",
      "43\t17\t32\t15\t27\t6\t14\t4\t23\t14\t31\t16\t17\t18\t12\t8\t24\t10\t9\t18\t7\t3\t13\t2\t16\t13\t16\t14\t4\t0\t5\t4\t22\t13\t31\t14\t16\t11\t19\t5\t35\t15\t37\t18\t17\t7\t19\t19\t19\t11\t11\t8\t11\t5\t13\t2\t6\t9\t21\t14\t11\t6\t14\t6\n"
     ]
    }
   ],
   "source": [
    "table = []\n",
    "\n",
    "seq = ''\n",
    "for line in open(os.path.join(PROJECT_ROOT_DIR,'example.txt')):\n",
    "    line = line.rstrip()\n",
    "    if line.startswith(\">\") and seq == '':\n",
    "        table.append(list(k_mer_dna(3).keys()))\n",
    "    \n",
    "    elif not line.startswith('>'):\n",
    "        seq += line\n",
    "    \n",
    "    elif line.startswith('>') and seq != '':\n",
    "        table.append([str(x) for x in count_k_mer(seq,3).values()])\n",
    "        seq = ''\n",
    "\n",
    "table.append([str(x) for x in count_k_mer(seq,3).values()])\n",
    "\n",
    "for item in table:\n",
    "    print('\\t'.join(item))"
   ]
  },
  {
   "cell_type": "code",
   "execution_count": 7,
   "metadata": {},
   "outputs": [],
   "source": [
    "output_file = open(os.path.join(PROJECT_ROOT_DIR,'k_mer_output.tsv'),'w')\n",
    "seq = ''\n",
    "\n",
    "for line in open(os.path.join(PROJECT_ROOT_DIR,'example.txt')):\n",
    "    line = line.rstrip()\n",
    "    if line.startswith(\">\") and seq == '':\n",
    "        output_file.write('\\t'.join(k_mer_dna(3).keys())+'\\n')\n",
    "    \n",
    "    elif not line.startswith('>'):\n",
    "        seq += line\n",
    "    \n",
    "    elif line.startswith('>') and seq != '':\n",
    "        output_file.write('\\t'.join([str(x) for x in count_k_mer(seq,3).values()])+'\\n')\n",
    "        seq = ''\n",
    "\n",
    "output_file.write('\\t'.join([str(x) for x in count_k_mer(seq,3).values()])+'\\n')\n",
    "output_file.close()"
   ]
  },
  {
   "cell_type": "code",
   "execution_count": 8,
   "metadata": {},
   "outputs": [
    {
     "name": "stdout",
     "output_type": "stream",
     "text": [
      "AAA\tAAC\tAAT\tAAG\tACA\tACC\tACT\tACG\tATA\tATC\tATT\tATG\tAGA\tAGC\tAGT\tAGG\tCAA\tCAC\tCAT\tCAG\tCCA\tCCC\tCCT\tCCG\tCTA\tCTC\tCTT\tCTG\tCGA\tCGC\tCGT\tCGG\tTAA\tTAC\tTAT\tTAG\tTCA\tTCC\tTCT\tTCG\tTTA\tTTC\tTTT\tTTG\tTGA\tTGC\tTGT\tTGG\tGAA\tGAC\tGAT\tGAG\tGCA\tGCC\tGCT\tGCG\tGTA\tGTC\tGTT\tGTG\tGGA\tGGC\tGGT\tGGG\n",
      "158\t152\t73\t105\t125\t120\t128\t90\t102\t31\t79\t100\t85\t95\t99\t18\t102\t89\t78\t66\t63\t31\t120\t43\t119\t96\t147\t92\t76\t30\t93\t37\t127\t170\t87\t74\t80\t78\t113\t64\t127\t135\t197\t122\t109\t70\t137\t62\t101\t52\t74\t53\t67\t28\t93\t39\t109\t73\t158\t64\t10\t32\t75\t38\n",
      "20\t21\t18\t9\t21\t5\t18\t10\t22\t6\t29\t23\t10\t6\t7\t13\t13\t11\t16\t10\t1\t3\t10\t6\t10\t10\t22\t13\t4\t5\t4\t7\t24\t13\t26\t10\t14\t7\t11\t2\t27\t10\t22\t21\t18\t10\t18\t29\t12\t9\t19\t7\t14\t5\t16\t2\t14\t8\t7\t18\t15\t16\t18\t10\n",
      "43\t17\t32\t15\t27\t6\t14\t4\t23\t14\t31\t16\t17\t18\t12\t8\t24\t10\t9\t18\t7\t3\t13\t2\t16\t13\t16\t14\t4\t0\t5\t4\t22\t13\t31\t14\t16\t11\t19\t5\t35\t15\t37\t18\t17\t7\t19\t19\t19\t11\t11\t8\t11\t5\t13\t2\t6\t9\t21\t14\t11\t6\t14\t6\n"
     ]
    }
   ],
   "source": [
    "import os\n",
    "from itertools import product\n",
    "\n",
    "# Where to save the data\n",
    "PROJECT_ROOT_DIR = \".\"  \n",
    "\n",
    "def k_mer_dna(number):\n",
    "    \n",
    "    return {''.join(x):0 for x in product('ACTG', repeat=number)}\n",
    "\n",
    "def count_k_mer(seq,n):\n",
    "    k_mer_dna_dict = k_mer_dna(n)\n",
    "    for i in range(len(seq) - n + 1):\n",
    "        count = seq[i:i+n]\n",
    "        if count in k_mer_dna_dict:\n",
    "            k_mer_dna_dict[count] += 1\n",
    "    \n",
    "    return k_mer_dna_dict\n",
    "\n",
    "def write_file(file_name,k_mer):\n",
    "    \n",
    "    output_file = open(os.path.join(PROJECT_ROOT_DIR,'k_mer_output.tsv'),'w')\n",
    "    seq = ''\n",
    "    \n",
    "    for line in open(os.path.join(PROJECT_ROOT_DIR,file_name)):\n",
    "        line = line.rstrip()\n",
    "        if line.startswith(\">\") and seq == '':\n",
    "            output_file.write('\\t'.join(k_mer_dna(k_mer).keys())+'\\n')\n",
    "    \n",
    "        elif not line.startswith('>'):\n",
    "            seq += line\n",
    "    \n",
    "        elif line.startswith('>') and seq != '':\n",
    "            output_file.write('\\t'.join([str(x) for x in count_k_mer(seq,k_mer).values()])+'\\n')\n",
    "            seq = ''\n",
    "\n",
    "    output_file.write('\\t'.join([str(x) for x in count_k_mer(seq,k_mer).values()])+'\\n')\n",
    "    output_file.close()\n",
    "\n",
    "def print_k_mer(file_name='k_mer_output.tsv'):\n",
    "    \n",
    "    for line in open(os.path.join(PROJECT_ROOT_DIR,file_name)):\n",
    "        line = line.rstrip()\n",
    "        print(line)\n",
    "        \n",
    "def main(file_name,k_mer=3):\n",
    "    write_file(file_name,k_mer)\n",
    "    print_k_mer(file_name='k_mer_output.tsv')\n",
    "\n",
    "if __name__ == \"__main__\":\n",
    "    main('example.txt')"
   ]
  },
  {
   "cell_type": "code",
   "execution_count": 9,
   "metadata": {},
   "outputs": [],
   "source": [
    "from __future__ import print_function, division #If python2,add this line\n",
    "import os\n",
    "from itertools import product\n",
    "\n",
    "# Where to save the data\n",
    "PROJECT_ROOT_DIR = \".\"  \n",
    "\n",
    "class KMer:\n",
    "    def __init__(self,file_name,k_mer=3):\n",
    "        self.file_name = file_name\n",
    "        self.k_mer = k_mer\n",
    "        \n",
    "    def k_mer_dna(self,number):\n",
    "\n",
    "        return {''.join(x):0 for x in product('ACTG', repeat=number)}\n",
    "\n",
    "    def count_k_mer(self,seq,n):\n",
    "        k_mer_dna_dict = self.k_mer_dna(n)\n",
    "        for i in range(len(seq) - n + 1):\n",
    "            count = seq[i:i+n]\n",
    "            if count in k_mer_dna_dict:\n",
    "                k_mer_dna_dict[count] += 1\n",
    "\n",
    "        return k_mer_dna_dict\n",
    "\n",
    "    def write_file(self,file_name,k_mer):\n",
    "        output_file = open(os.path.join(PROJECT_ROOT_DIR,'k_mer_output.tsv'),'w')\n",
    "        seq = ''\n",
    "\n",
    "        for line in open(os.path.join(PROJECT_ROOT_DIR,file_name)):\n",
    "            line = line.rstrip()\n",
    "            if line.startswith(\">\") and seq == '':\n",
    "                output_file.write('\\t'.join(self.k_mer_dna(k_mer).keys())+'\\n')\n",
    "\n",
    "            elif not line.startswith('>'):\n",
    "                seq += line\n",
    "\n",
    "            elif line.startswith('>') and seq != '':\n",
    "                output_file.write('\\t'.join([str(x) for x in self.count_k_mer(seq,k_mer).values()])+'\\n')\n",
    "                seq = ''\n",
    "\n",
    "        output_file.write('\\t'.join([str(x) for x in self.count_k_mer(seq,k_mer).values()])+'\\n')\n",
    "        output_file.close()\n",
    "\n",
    "    def print_k_mer(self,file_name='k_mer_output.tsv'):\n",
    "        for line in open(os.path.join(PROJECT_ROOT_DIR,file_name)):\n",
    "            line = line.rstrip()\n",
    "            print(line)\n",
    "\n",
    "    def main(self):\n",
    "        self.write_file(self.file_name,self.k_mer)\n",
    "        self.print_k_mer(file_name='k_mer_output.tsv') "
   ]
  },
  {
   "cell_type": "code",
   "execution_count": 10,
   "metadata": {},
   "outputs": [
    {
     "name": "stdout",
     "output_type": "stream",
     "text": [
      "AAA\tAAC\tAAT\tAAG\tACA\tACC\tACT\tACG\tATA\tATC\tATT\tATG\tAGA\tAGC\tAGT\tAGG\tCAA\tCAC\tCAT\tCAG\tCCA\tCCC\tCCT\tCCG\tCTA\tCTC\tCTT\tCTG\tCGA\tCGC\tCGT\tCGG\tTAA\tTAC\tTAT\tTAG\tTCA\tTCC\tTCT\tTCG\tTTA\tTTC\tTTT\tTTG\tTGA\tTGC\tTGT\tTGG\tGAA\tGAC\tGAT\tGAG\tGCA\tGCC\tGCT\tGCG\tGTA\tGTC\tGTT\tGTG\tGGA\tGGC\tGGT\tGGG\n",
      "158\t152\t73\t105\t125\t120\t128\t90\t102\t31\t79\t100\t85\t95\t99\t18\t102\t89\t78\t66\t63\t31\t120\t43\t119\t96\t147\t92\t76\t30\t93\t37\t127\t170\t87\t74\t80\t78\t113\t64\t127\t135\t197\t122\t109\t70\t137\t62\t101\t52\t74\t53\t67\t28\t93\t39\t109\t73\t158\t64\t10\t32\t75\t38\n",
      "20\t21\t18\t9\t21\t5\t18\t10\t22\t6\t29\t23\t10\t6\t7\t13\t13\t11\t16\t10\t1\t3\t10\t6\t10\t10\t22\t13\t4\t5\t4\t7\t24\t13\t26\t10\t14\t7\t11\t2\t27\t10\t22\t21\t18\t10\t18\t29\t12\t9\t19\t7\t14\t5\t16\t2\t14\t8\t7\t18\t15\t16\t18\t10\n",
      "43\t17\t32\t15\t27\t6\t14\t4\t23\t14\t31\t16\t17\t18\t12\t8\t24\t10\t9\t18\t7\t3\t13\t2\t16\t13\t16\t14\t4\t0\t5\t4\t22\t13\t31\t14\t16\t11\t19\t5\t35\t15\t37\t18\t17\t7\t19\t19\t19\t11\t11\t8\t11\t5\t13\t2\t6\t9\t21\t14\t11\t6\t14\t6\n"
     ]
    }
   ],
   "source": [
    "a = KMer('example.txt')\n",
    "a.main()"
   ]
  },
  {
   "cell_type": "code",
   "execution_count": null,
   "metadata": {},
   "outputs": [],
   "source": []
  }
 ],
 "metadata": {
  "kernelspec": {
   "display_name": "Python 3",
   "language": "python",
   "name": "python3"
  },
  "language_info": {
   "codemirror_mode": {
    "name": "ipython",
    "version": 3
   },
   "file_extension": ".py",
   "mimetype": "text/x-python",
   "name": "python",
   "nbconvert_exporter": "python",
   "pygments_lexer": "ipython3",
   "version": "3.6.3"
  }
 },
 "nbformat": 4,
 "nbformat_minor": 2
}

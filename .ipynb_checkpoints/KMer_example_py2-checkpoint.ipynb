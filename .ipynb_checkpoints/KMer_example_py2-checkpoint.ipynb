{
 "cells": [
  {
   "cell_type": "code",
   "execution_count": 1,
   "metadata": {
    "collapsed": true
   },
   "outputs": [],
   "source": [
    "from __future__ import print_function, division\n",
    "import numpy as np\n",
    "import os\n",
    "from itertools import product\n",
    "\n",
    "# Where to save the data\n",
    "PROJECT_ROOT_DIR = \".\"  "
   ]
  },
  {
   "cell_type": "code",
   "execution_count": 3,
   "metadata": {},
   "outputs": [
    {
     "name": "stdout",
     "output_type": "stream",
     "text": [
      "['AAA', 'AAT', 'AAC', 'AAG', 'ATA', 'ATT', 'ATC', 'ATG', 'ACA', 'ACT', 'ACC', 'ACG', 'AGA', 'AGT', 'AGC', 'AGG', 'TAA', 'TAT', 'TAC', 'TAG', 'TTA', 'TTT', 'TTC', 'TTG', 'TCA', 'TCT', 'TCC', 'TCG', 'TGA', 'TGT', 'TGC', 'TGG', 'CAA', 'CAT', 'CAC', 'CAG', 'CTA', 'CTT', 'CTC', 'CTG', 'CCA', 'CCT', 'CCC', 'CCG', 'CGA', 'CGT', 'CGC', 'CGG', 'GAA', 'GAT', 'GAC', 'GAG', 'GTA', 'GTT', 'GTC', 'GTG', 'GCA', 'GCT', 'GCC', 'GCG', 'GGA', 'GGT', 'GGC', 'GGG']\n",
      "64\n"
     ]
    }
   ],
   "source": [
    "a = 'ATCG'\n",
    "b = 3\n",
    "print([''.join(x) for x in product(a, repeat=b)])\n",
    "print(len([''.join(x) for x in product(a, repeat=b)]))"
   ]
  },
  {
   "cell_type": "code",
   "execution_count": 4,
   "metadata": {},
   "outputs": [
    {
     "name": "stdout",
     "output_type": "stream",
     "text": [
      "{'ACC': 0, 'ATG': 0, 'AAG': 0, 'AAA': 0, 'ATC': 0, 'AAC': 0, 'ATA': 0, 'AGG': 0, 'CCT': 0, 'CTC': 0, 'AGC': 0, 'ACA': 0, 'AGA': 0, 'CAT': 0, 'AAT': 0, 'ATT': 0, 'CTG': 0, 'CTA': 0, 'ACT': 0, 'CAC': 0, 'ACG': 0, 'CAA': 0, 'AGT': 0, 'CCA': 0, 'CCG': 0, 'CCC': 0, 'TAT': 0, 'GGT': 0, 'TGT': 0, 'CGA': 0, 'CAG': 0, 'CGC': 0, 'GAT': 0, 'CGG': 0, 'CTT': 0, 'TGC': 0, 'GGG': 0, 'TAG': 0, 'GGA': 0, 'TAA': 0, 'GGC': 0, 'TAC': 0, 'TTC': 0, 'TCG': 0, 'TTA': 0, 'TTG': 0, 'CGT': 0, 'TTT': 0, 'TCA': 0, 'GCA': 0, 'GTA': 0, 'GCC': 0, 'GTC': 0, 'GCG': 0, 'GTG': 0, 'GAG': 0, 'GTT': 0, 'GCT': 0, 'TGA': 0, 'GAC': 0, 'TCC': 0, 'TGG': 0, 'GAA': 0, 'TCT': 0}\n"
     ]
    }
   ],
   "source": [
    "a = 'ACTG'\n",
    "b = 3\n",
    "print({''.join(x):0 for x in product(a, repeat=b)})"
   ]
  },
  {
   "cell_type": "code",
   "execution_count": 5,
   "metadata": {},
   "outputs": [
    {
     "name": "stdout",
     "output_type": "stream",
     "text": [
      "{'ACC': 0, 'ATG': 0, 'AAG': 0, 'AAA': 0, 'ATC': 0, 'AAC': 0, 'ATA': 0, 'AGG': 0, 'CCT': 0, 'CTC': 0, 'AGC': 0, 'ACA': 0, 'AGA': 0, 'CAT': 0, 'AAT': 0, 'ATT': 0, 'CTG': 3, 'CTA': 0, 'ACT': 3, 'CAC': 0, 'ACG': 0, 'CAA': 0, 'AGT': 0, 'CCA': 0, 'CCG': 0, 'CCC': 0, 'TAT': 0, 'GGT': 0, 'TGT': 0, 'CGA': 0, 'CAG': 0, 'CGC': 0, 'GAT': 0, 'CGG': 0, 'CTT': 0, 'TGC': 0, 'GGG': 0, 'TAG': 0, 'GGA': 0, 'TAA': 0, 'GGC': 0, 'TAC': 0, 'TTC': 0, 'TCG': 0, 'TTA': 0, 'TTG': 0, 'CGT': 0, 'TTT': 0, 'TCA': 0, 'GCA': 0, 'GTA': 0, 'GCC': 0, 'GTC': 0, 'GCG': 0, 'GTG': 0, 'GAG': 0, 'GTT': 0, 'GCT': 0, 'TGA': 2, 'GAC': 2, 'TCC': 0, 'TGG': 0, 'GAA': 0, 'TCT': 0}\n"
     ]
    }
   ],
   "source": [
    "def k_mer_dna(number):\n",
    "    \n",
    "    return {''.join(x):0 for x in product('ACTG', repeat=number)}\n",
    "\n",
    "def count_k_mer(seq,n):\n",
    "    k_mer_dna_dict = k_mer_dna(n)\n",
    "    for i in range(len(seq) - n + 1):\n",
    "        count = seq[i:i+n]\n",
    "        if count in k_mer_dna_dict:\n",
    "            k_mer_dna_dict[count] += 1\n",
    "    \n",
    "    return k_mer_dna_dict\n",
    "\n",
    "seq = \"ACTGACTGACTG\"\n",
    "print(count_k_mer(seq,3)) "
   ]
  },
  {
   "cell_type": "code",
   "execution_count": 6,
   "metadata": {},
   "outputs": [
    {
     "name": "stdout",
     "output_type": "stream",
     "text": [
      "ACT\n",
      "CTG\n",
      "TGA\n",
      "GAC\n",
      "ACT\n",
      "CTG\n",
      "TGA\n",
      "GAC\n",
      "ACT\n",
      "CTG\n"
     ]
    }
   ],
   "source": [
    "seq = \"ACTGACTGACTG\"\n",
    "for i in range(len(seq) - 2):\n",
    "    print(seq[i:i+3])"
   ]
  },
  {
   "cell_type": "code",
   "execution_count": 7,
   "metadata": {},
   "outputs": [
    {
     "name": "stdout",
     "output_type": "stream",
     "text": [
      "ACC\tATG\tAAG\tAAA\tATC\tAAC\tATA\tAGG\tCCT\tCTC\tAGC\tACA\tAGA\tCAT\tAAT\tATT\tCTG\tCTA\tACT\tCAC\tACG\tCAA\tAGT\tCCA\tCCG\tCCC\tTAT\tGGT\tTGT\tCGA\tCAG\tCGC\tGAT\tCGG\tCTT\tTGC\tGGG\tTAG\tGGA\tTAA\tGGC\tTAC\tTTC\tTCG\tTTA\tTTG\tCGT\tTTT\tTCA\tGCA\tGTA\tGCC\tGTC\tGCG\tGTG\tGAG\tGTT\tGCT\tTGA\tGAC\tTCC\tTGG\tGAA\tTCT\n",
      "120\t100\t105\t158\t31\t152\t102\t18\t120\t96\t95\t125\t85\t78\t73\t79\t92\t119\t128\t89\t90\t102\t99\t63\t43\t31\t87\t75\t137\t76\t66\t30\t74\t37\t147\t70\t38\t74\t10\t127\t32\t170\t135\t64\t127\t122\t93\t197\t80\t67\t109\t28\t73\t39\t64\t53\t158\t93\t109\t52\t78\t62\t101\t113\n",
      "5\t23\t9\t20\t6\t21\t22\t13\t10\t10\t6\t21\t10\t16\t18\t29\t13\t10\t18\t11\t10\t13\t7\t1\t6\t3\t26\t18\t18\t4\t10\t5\t19\t7\t22\t10\t10\t10\t15\t24\t16\t13\t10\t2\t27\t21\t4\t22\t14\t14\t14\t5\t8\t2\t18\t7\t7\t16\t18\t9\t7\t29\t12\t11\n",
      "6\t16\t15\t43\t14\t17\t23\t8\t13\t13\t18\t27\t17\t9\t32\t31\t14\t16\t14\t10\t4\t24\t12\t7\t2\t3\t31\t14\t19\t4\t18\t0\t11\t4\t16\t7\t6\t14\t11\t22\t6\t13\t15\t5\t35\t18\t5\t37\t16\t11\t6\t5\t9\t2\t14\t8\t21\t13\t17\t11\t11\t19\t19\t19\n"
     ]
    }
   ],
   "source": [
    "table = []\n",
    "\n",
    "seq = ''\n",
    "for line in open(os.path.join(PROJECT_ROOT_DIR,'example.txt')):\n",
    "    line = line.rstrip()\n",
    "    if line.startswith(\">\") and seq == '':\n",
    "        table.append(list(k_mer_dna(3).keys()))\n",
    "    \n",
    "    elif not line.startswith('>'):\n",
    "        seq += line\n",
    "    \n",
    "    elif line.startswith('>') and seq != '':\n",
    "        table.append([str(x) for x in count_k_mer(seq,3).values()])\n",
    "        seq = ''\n",
    "\n",
    "table.append([str(x) for x in count_k_mer(seq,3).values()])\n",
    "\n",
    "for item in table:\n",
    "    print('\\t'.join(item))"
   ]
  },
  {
   "cell_type": "code",
   "execution_count": 8,
   "metadata": {
    "collapsed": true
   },
   "outputs": [],
   "source": [
    "output_file = open(os.path.join(PROJECT_ROOT_DIR,'k_mer_output.tsv'),'w')\n",
    "seq = ''\n",
    "\n",
    "for line in open(os.path.join(PROJECT_ROOT_DIR,'example.txt')):\n",
    "    line = line.rstrip()\n",
    "    if line.startswith(\">\") and seq == '':\n",
    "        output_file.write('\\t'.join(k_mer_dna(3).keys())+'\\n')\n",
    "    \n",
    "    elif not line.startswith('>'):\n",
    "        seq += line\n",
    "    \n",
    "    elif line.startswith('>') and seq != '':\n",
    "        output_file.write('\\t'.join([str(x) for x in count_k_mer(seq,3).values()])+'\\n')\n",
    "        seq = ''\n",
    "\n",
    "output_file.write('\\t'.join([str(x) for x in count_k_mer(seq,3).values()])+'\\n')\n",
    "output_file.close()"
   ]
  },
  {
   "cell_type": "code",
   "execution_count": 10,
   "metadata": {},
   "outputs": [
    {
     "name": "stdout",
     "output_type": "stream",
     "text": [
      "ACC\tATG\tAAG\tAAA\tATC\tAAC\tATA\tAGG\tCCT\tCTC\tAGC\tACA\tAGA\tCAT\tAAT\tATT\tCTG\tCTA\tACT\tCAC\tACG\tCAA\tAGT\tCCA\tCCG\tCCC\tTAT\tGGT\tTGT\tCGA\tCAG\tCGC\tGAT\tCGG\tCTT\tTGC\tGGG\tTAG\tGGA\tTAA\tGGC\tTAC\tTTC\tTCG\tTTA\tTTG\tCGT\tTTT\tTCA\tGCA\tGTA\tGCC\tGTC\tGCG\tGTG\tGAG\tGTT\tGCT\tTGA\tGAC\tTCC\tTGG\tGAA\tTCT\n",
      "120\t100\t105\t158\t31\t152\t102\t18\t120\t96\t95\t125\t85\t78\t73\t79\t92\t119\t128\t89\t90\t102\t99\t63\t43\t31\t87\t75\t137\t76\t66\t30\t74\t37\t147\t70\t38\t74\t10\t127\t32\t170\t135\t64\t127\t122\t93\t197\t80\t67\t109\t28\t73\t39\t64\t53\t158\t93\t109\t52\t78\t62\t101\t113\n",
      "5\t23\t9\t20\t6\t21\t22\t13\t10\t10\t6\t21\t10\t16\t18\t29\t13\t10\t18\t11\t10\t13\t7\t1\t6\t3\t26\t18\t18\t4\t10\t5\t19\t7\t22\t10\t10\t10\t15\t24\t16\t13\t10\t2\t27\t21\t4\t22\t14\t14\t14\t5\t8\t2\t18\t7\t7\t16\t18\t9\t7\t29\t12\t11\n",
      "6\t16\t15\t43\t14\t17\t23\t8\t13\t13\t18\t27\t17\t9\t32\t31\t14\t16\t14\t10\t4\t24\t12\t7\t2\t3\t31\t14\t19\t4\t18\t0\t11\t4\t16\t7\t6\t14\t11\t22\t6\t13\t15\t5\t35\t18\t5\t37\t16\t11\t6\t5\t9\t2\t14\t8\t21\t13\t17\t11\t11\t19\t19\t19\n"
     ]
    }
   ],
   "source": [
    "from __future__ import print_function, division #If python2,add this line\n",
    "import os\n",
    "from itertools import product\n",
    "\n",
    "# Where to save the data\n",
    "PROJECT_ROOT_DIR = \".\"  \n",
    "\n",
    "def k_mer_dna(number):\n",
    "    \n",
    "    return {''.join(x):0 for x in product('ACTG', repeat=number)}\n",
    "\n",
    "def count_k_mer(seq,n):\n",
    "    k_mer_dna_dict = k_mer_dna(n)\n",
    "    for i in range(len(seq) - n + 1):\n",
    "        count = seq[i:i+n]\n",
    "        if count in k_mer_dna_dict:\n",
    "            k_mer_dna_dict[count] += 1\n",
    "    \n",
    "    return k_mer_dna_dict\n",
    "\n",
    "def write_file(file_name,k_mer):\n",
    "    \n",
    "    output_file = open(os.path.join(PROJECT_ROOT_DIR,'k_mer_output.tsv'),'w')\n",
    "    seq = ''\n",
    "    \n",
    "    for line in open(os.path.join(PROJECT_ROOT_DIR,file_name)):\n",
    "        line = line.rstrip()\n",
    "        if line.startswith(\">\") and seq == '':\n",
    "            output_file.write('\\t'.join(k_mer_dna(k_mer).keys())+'\\n')\n",
    "    \n",
    "        elif not line.startswith('>'):\n",
    "            seq += line\n",
    "    \n",
    "        elif line.startswith('>') and seq != '':\n",
    "            output_file.write('\\t'.join([str(x) for x in count_k_mer(seq,k_mer).values()])+'\\n')\n",
    "            seq = ''\n",
    "\n",
    "    output_file.write('\\t'.join([str(x) for x in count_k_mer(seq,k_mer).values()])+'\\n')\n",
    "    output_file.close()\n",
    "\n",
    "def print_k_mer(file_name='k_mer_output.tsv'):\n",
    "    \n",
    "    for line in open(os.path.join(PROJECT_ROOT_DIR,file_name)):\n",
    "        line = line.rstrip()\n",
    "        print(line)\n",
    "        \n",
    "def main(file_name,k_mer=3):\n",
    "    write_file(file_name,k_mer)\n",
    "    print_k_mer(file_name='k_mer_output.tsv')\n",
    "\n",
    "if __name__ == \"__main__\":\n",
    "    main('example.txt')"
   ]
  },
  {
   "cell_type": "code",
   "execution_count": 11,
   "metadata": {
    "collapsed": true
   },
   "outputs": [],
   "source": [
    "from __future__ import print_function, division #If python2,add this line\n",
    "import os\n",
    "from itertools import product\n",
    "\n",
    "# Where to save the data\n",
    "PROJECT_ROOT_DIR = \".\"  \n",
    "\n",
    "class KMer:\n",
    "    def __init__(self,file_name,k_mer=3):\n",
    "        self.file_name = file_name\n",
    "        self.k_mer = k_mer\n",
    "        \n",
    "    def k_mer_dna(self,number):\n",
    "\n",
    "        return {''.join(x):0 for x in product('ACTG', repeat=number)}\n",
    "\n",
    "    def count_k_mer(self,seq,n):\n",
    "        k_mer_dna_dict = self.k_mer_dna(n)\n",
    "        for i in range(len(seq) - n + 1):\n",
    "            count = seq[i:i+n]\n",
    "            if count in k_mer_dna_dict:\n",
    "                k_mer_dna_dict[count] += 1\n",
    "\n",
    "        return k_mer_dna_dict\n",
    "\n",
    "    def write_file(self,file_name,k_mer):\n",
    "        output_file = open(os.path.join(PROJECT_ROOT_DIR,'k_mer_output.tsv'),'w')\n",
    "        seq = ''\n",
    "\n",
    "        for line in open(os.path.join(PROJECT_ROOT_DIR,file_name)):\n",
    "            line = line.rstrip()\n",
    "            if line.startswith(\">\") and seq == '':\n",
    "                output_file.write('\\t'.join(self.k_mer_dna(k_mer).keys())+'\\n')\n",
    "\n",
    "            elif not line.startswith('>'):\n",
    "                seq += line\n",
    "\n",
    "            elif line.startswith('>') and seq != '':\n",
    "                output_file.write('\\t'.join([str(x) for x in self.count_k_mer(seq,k_mer).values()])+'\\n')\n",
    "                seq = ''\n",
    "\n",
    "        output_file.write('\\t'.join([str(x) for x in self.count_k_mer(seq,k_mer).values()])+'\\n')\n",
    "        output_file.close()\n",
    "\n",
    "    def print_k_mer(self,file_name='k_mer_output.tsv'):\n",
    "        for line in open(os.path.join(PROJECT_ROOT_DIR,file_name)):\n",
    "            line = line.rstrip()\n",
    "            print(line)\n",
    "\n",
    "    def main(self):\n",
    "        self.write_file(self.file_name,self.k_mer)\n",
    "        self.print_k_mer(file_name='k_mer_output.tsv') "
   ]
  },
  {
   "cell_type": "code",
   "execution_count": 12,
   "metadata": {},
   "outputs": [
    {
     "name": "stdout",
     "output_type": "stream",
     "text": [
      "ACC\tATG\tAAG\tAAA\tATC\tAAC\tATA\tAGG\tCCT\tCTC\tAGC\tACA\tAGA\tCAT\tAAT\tATT\tCTG\tCTA\tACT\tCAC\tACG\tCAA\tAGT\tCCA\tCCG\tCCC\tTAT\tGGT\tTGT\tCGA\tCAG\tCGC\tGAT\tCGG\tCTT\tTGC\tGGG\tTAG\tGGA\tTAA\tGGC\tTAC\tTTC\tTCG\tTTA\tTTG\tCGT\tTTT\tTCA\tGCA\tGTA\tGCC\tGTC\tGCG\tGTG\tGAG\tGTT\tGCT\tTGA\tGAC\tTCC\tTGG\tGAA\tTCT\n",
      "120\t100\t105\t158\t31\t152\t102\t18\t120\t96\t95\t125\t85\t78\t73\t79\t92\t119\t128\t89\t90\t102\t99\t63\t43\t31\t87\t75\t137\t76\t66\t30\t74\t37\t147\t70\t38\t74\t10\t127\t32\t170\t135\t64\t127\t122\t93\t197\t80\t67\t109\t28\t73\t39\t64\t53\t158\t93\t109\t52\t78\t62\t101\t113\n",
      "5\t23\t9\t20\t6\t21\t22\t13\t10\t10\t6\t21\t10\t16\t18\t29\t13\t10\t18\t11\t10\t13\t7\t1\t6\t3\t26\t18\t18\t4\t10\t5\t19\t7\t22\t10\t10\t10\t15\t24\t16\t13\t10\t2\t27\t21\t4\t22\t14\t14\t14\t5\t8\t2\t18\t7\t7\t16\t18\t9\t7\t29\t12\t11\n",
      "6\t16\t15\t43\t14\t17\t23\t8\t13\t13\t18\t27\t17\t9\t32\t31\t14\t16\t14\t10\t4\t24\t12\t7\t2\t3\t31\t14\t19\t4\t18\t0\t11\t4\t16\t7\t6\t14\t11\t22\t6\t13\t15\t5\t35\t18\t5\t37\t16\t11\t6\t5\t9\t2\t14\t8\t21\t13\t17\t11\t11\t19\t19\t19\n"
     ]
    }
   ],
   "source": [
    "a = KMer('example.txt')\n",
    "a.main()"
   ]
  },
  {
   "cell_type": "code",
   "execution_count": null,
   "metadata": {
    "collapsed": true
   },
   "outputs": [],
   "source": []
  }
 ],
 "metadata": {
  "kernelspec": {
   "display_name": "Python 2",
   "language": "python",
   "name": "python2"
  },
  "language_info": {
   "codemirror_mode": {
    "name": "ipython",
    "version": 2
   },
   "file_extension": ".py",
   "mimetype": "text/x-python",
   "name": "python",
   "nbconvert_exporter": "python",
   "pygments_lexer": "ipython2",
   "version": "2.7.14"
  }
 },
 "nbformat": 4,
 "nbformat_minor": 2
}
